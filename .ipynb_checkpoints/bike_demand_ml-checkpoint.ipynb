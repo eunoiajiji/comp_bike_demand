{
 "cells": [
  {
   "cell_type": "markdown",
   "id": "6d36fd9b-8277-46dd-ab5d-3563dcc739b7",
   "metadata": {},
   "source": [
    "<font size=6><b>Bike Sharing Demand - ML"
   ]
  },
  {
   "cell_type": "markdown",
   "id": "5cb6f8bb-d3e1-457c-a482-430e612f90a4",
   "metadata": {
    "tags": []
   },
   "source": [
    "<img src=\"./logo.png\">\n",
    "* ref : https://www.kaggle.com/competitions/bike-sharing-demand/data <br>\n",
    "* ref : https://dacon.io/competitions/official/235985/data"
   ]
  },
  {
   "cell_type": "code",
   "execution_count": 1,
   "id": "11769cb6-b939-495e-96c1-ff3598956cec",
   "metadata": {
    "tags": []
   },
   "outputs": [
    {
     "data": {
      "text/html": [
       "<style>.container{width:100% !important;}</style>"
      ],
      "text/plain": [
       "<IPython.core.display.HTML object>"
      ]
     },
     "metadata": {},
     "output_type": "display_data"
    }
   ],
   "source": [
    "import numpy as np\n",
    "import pandas as pd\n",
    "\n",
    "import matplotlib.pyplot as plt\n",
    "import seaborn as sns\n",
    "\n",
    "\n",
    "sns.set()\n",
    "\n",
    "#-------------------- 차트 관련 속성 (한글처리, 그리드) -----------\n",
    "plt.rcParams['font.family']= 'Malgun Gothic'\n",
    "plt.rcParams['axes.unicode_minus'] = False\n",
    "\n",
    "#-------------------- 주피터 , 출력결과 넓이 늘리기 ---------------\n",
    "# from IPython.core.display import display, HTML\n",
    "from IPython.display import display, HTML\n",
    "\n",
    "display(HTML(\"<style>.container{width:100% !important;}</style>\"))\n",
    "pd.set_option('display.max_rows', 100)\n",
    "pd.set_option('display.max_columns', 100)\n",
    "pd.set_option('max_colwidth', None)\n",
    "\n",
    "import warnings\n",
    "warnings.filterwarnings(action='ignore')"
   ]
  },
  {
   "cell_type": "code",
   "execution_count": 2,
   "id": "75c1e36b-5262-41cc-854f-abb5cb91188c",
   "metadata": {
    "tags": []
   },
   "outputs": [],
   "source": [
    "# ! pip install xgboost\n",
    "# ! pip install lightgbm "
   ]
  },
  {
   "cell_type": "code",
   "execution_count": 3,
   "id": "02d88c79-95e1-4b95-96de-df858fcc943f",
   "metadata": {},
   "outputs": [],
   "source": [
    "from sklearn.model_selection import train_test_split\n",
    "from sklearn.metrics import mean_squared_error\n",
    "from sklearn.metrics import mean_squared_log_error\n",
    "\n",
    "from sklearn.ensemble     import RandomForestRegressor\n",
    "from sklearn.tree         import DecisionTreeRegressor\n",
    "from sklearn.linear_model import LinearRegression, Ridge, Lasso\n",
    "# ---- 추가 모델\n",
    "from sklearn.ensemble     import AdaBoostRegressor, VotingRegressor\n",
    "from xgboost              import XGBRegressor\n",
    "from lightgbm             import LGBMRegressor"
   ]
  },
  {
   "cell_type": "markdown",
   "id": "3f698b81-6a0b-4c55-b81e-c2fd498d4b74",
   "metadata": {},
   "source": [
    "# Data Load"
   ]
  },
  {
   "cell_type": "code",
   "execution_count": 4,
   "id": "aef310ea-ddad-4ad0-bcea-018ebbe0c5d5",
   "metadata": {
    "tags": []
   },
   "outputs": [],
   "source": [
    "train = pd.read_csv(\"./train.csv\", parse_dates=['datetime'])\n",
    "test  = pd.read_csv(\"./test.csv\" , parse_dates=['datetime'])"
   ]
  },
  {
   "cell_type": "code",
   "execution_count": 5,
   "id": "23a0bbfd-d222-4822-bfad-0fe563517d46",
   "metadata": {
    "tags": []
   },
   "outputs": [
    {
     "name": "stdout",
     "output_type": "stream",
     "text": [
      "<class 'pandas.core.frame.DataFrame'>\n",
      "RangeIndex: 10886 entries, 0 to 10885\n",
      "Data columns (total 12 columns):\n",
      " #   Column      Non-Null Count  Dtype         \n",
      "---  ------      --------------  -----         \n",
      " 0   regdate     10886 non-null  datetime64[ns]\n",
      " 1   season      10886 non-null  int64         \n",
      " 2   holiday     10886 non-null  int64         \n",
      " 3   workingday  10886 non-null  int64         \n",
      " 4   weather     10886 non-null  int64         \n",
      " 5   temp        10886 non-null  float64       \n",
      " 6   atemp       10886 non-null  float64       \n",
      " 7   humidity    10886 non-null  int64         \n",
      " 8   windspeed   10886 non-null  float64       \n",
      " 9   casual      10886 non-null  int64         \n",
      " 10  registered  10886 non-null  int64         \n",
      " 11  regcount    10886 non-null  int64         \n",
      "dtypes: datetime64[ns](1), float64(3), int64(8)\n",
      "memory usage: 1020.7 KB\n",
      "None\n",
      "==================================================\n",
      "<class 'pandas.core.frame.DataFrame'>\n",
      "RangeIndex: 6493 entries, 0 to 6492\n",
      "Data columns (total 9 columns):\n",
      " #   Column      Non-Null Count  Dtype         \n",
      "---  ------      --------------  -----         \n",
      " 0   regdate     6493 non-null   datetime64[ns]\n",
      " 1   season      6493 non-null   int64         \n",
      " 2   holiday     6493 non-null   int64         \n",
      " 3   workingday  6493 non-null   int64         \n",
      " 4   weather     6493 non-null   int64         \n",
      " 5   temp        6493 non-null   float64       \n",
      " 6   atemp       6493 non-null   float64       \n",
      " 7   humidity    6493 non-null   int64         \n",
      " 8   windspeed   6493 non-null   float64       \n",
      "dtypes: datetime64[ns](1), float64(3), int64(5)\n",
      "memory usage: 456.7 KB\n",
      "None\n",
      "==================================================\n"
     ]
    }
   ],
   "source": [
    "df_list = [train, test]\n",
    "for df in df_list:\n",
    "    df.rename(columns = {'datetime' : 'regdate', 'count' : 'regcount'}, inplace = True)\n",
    "    df.columns = df.columns.str.lower()\n",
    "    print(df.info())    \n",
    "    print(\"=====\"*10)\n"
   ]
  },
  {
   "cell_type": "markdown",
   "id": "df97bd52-7a8d-46e3-8ee7-342df27f95de",
   "metadata": {},
   "source": [
    "## 점수보기"
   ]
  },
  {
   "cell_type": "markdown",
   "id": "87d1e0d4-27a9-4fa8-8d33-d1e7a47e9153",
   "metadata": {},
   "source": [
    "# Feature Engineering"
   ]
  },
  {
   "cell_type": "markdown",
   "id": "48e56076-05c4-4424-9669-dea75029d881",
   "metadata": {},
   "source": [
    "## 파생피쳐\n",
    "* regdate\n",
    "* day_type"
   ]
  },
  {
   "cell_type": "code",
   "execution_count": 6,
   "id": "a7824002-3887-48c9-97f9-b50bd9862132",
   "metadata": {
    "tags": []
   },
   "outputs": [],
   "source": [
    "df_list = [train, test]\n",
    "for df in df_list:\n",
    "    df['y'] = df['regdate'].dt.year\n",
    "    df['m'] = df['regdate'].dt.month\n",
    "    df['d'] = df['regdate'].dt.day\n",
    "    df['h'] = df['regdate'].dt.hour\n",
    "    df['w'] = df['regdate'].dt.dayofweek\n",
    "    #df['woy'] = df['regdate'].dt.weekofyear\n",
    "    \n",
    "    \n",
    "    df['day_type'] = 0\n",
    "    df['day_type'] = np.where( (df['holiday']==0) & (df['workingday'] == 1),   1,  df['day_type'])\n",
    "    df['day_type'] = np.where( (df['holiday']==1) & (df['workingday'] == 0),   2,  df['day_type'])\n",
    "    \n",
    "    # df['peak'] = df[['h', 'workingday']].apply(lambda x: (0, 1)[(x['workingday'] == 1 and  ( x['h'] == 8 or 17 <= x['h'] <= 18 or 12 <= x['h'] <= 12)) or (x['workingday'] == 0 and  10 <= x['h'] <= 19)], axis = 1)\n",
    "    # df['ideal'] = df[['temp', 'windspeed']].apply(lambda x: (0, 1)[x['temp'] > 27 and x['windspeed'] < 30], axis = 1)\n",
    "    # df['sticky'] = df[['humidity', 'workingday']].apply(lambda x: (0, 1)[x['workingday'] == 1 and x['humidity'] >= 60], axis = 1)\n",
    "\n",
    "    \n",
    "    #sandy\n",
    "    df['holiday'] = df[['m', 'd', 'holiday', 'y']].apply(lambda x: (x['holiday'], 1)[x['y'] == 2012 and x['m'] == 10 and (x['d'] in [30])], axis = 1)\n",
    "    #christmas day and others\n",
    "    df['holiday'] = df[['m', 'd', 'holiday']].apply(lambda x: (x['holiday'], 1)[x['m'] == 12 and (x['d'] in [24, 26, 31])], axis = 1)\n",
    "    df['workingday'] = df[['m', 'd', 'workingday']].apply(lambda x: (x['workingday'], 0)[x['m'] == 12 and x['d'] in [24, 31]], axis = 1)\n",
    "    \n",
    "    df.set_index('regdate', inplace=True)\n",
    "    df.drop('d',axis=1,inplace=True)\n",
    "    \n",
    "    # OneHotEncoding (아래에)\n",
    "    \n",
    "    # Log Scaler (아래에)\n",
    "    \n"
   ]
  },
  {
   "cell_type": "code",
   "execution_count": 7,
   "id": "4a36428c-db62-4b4d-8a21-df45f986b2a2",
   "metadata": {},
   "outputs": [
    {
     "name": "stdout",
     "output_type": "stream",
     "text": [
      "<class 'pandas.core.frame.DataFrame'>\n",
      "DatetimeIndex: 6493 entries, 2011-01-20 00:00:00 to 2012-12-31 23:00:00\n",
      "Data columns (total 13 columns):\n",
      " #   Column      Non-Null Count  Dtype  \n",
      "---  ------      --------------  -----  \n",
      " 0   season      6493 non-null   int64  \n",
      " 1   holiday     6493 non-null   int64  \n",
      " 2   workingday  6493 non-null   int64  \n",
      " 3   weather     6493 non-null   int64  \n",
      " 4   temp        6493 non-null   float64\n",
      " 5   atemp       6493 non-null   float64\n",
      " 6   humidity    6493 non-null   int64  \n",
      " 7   windspeed   6493 non-null   float64\n",
      " 8   y           6493 non-null   int64  \n",
      " 9   m           6493 non-null   int64  \n",
      " 10  h           6493 non-null   int64  \n",
      " 11  w           6493 non-null   int64  \n",
      " 12  day_type    6493 non-null   int64  \n",
      "dtypes: float64(3), int64(10)\n",
      "memory usage: 710.2 KB\n"
     ]
    }
   ],
   "source": [
    "test.info()"
   ]
  },
  {
   "cell_type": "code",
   "execution_count": 8,
   "id": "b862156b-ea56-4bed-bd48-7de9a2cf7b51",
   "metadata": {},
   "outputs": [
    {
     "name": "stdout",
     "output_type": "stream",
     "text": [
      "<class 'pandas.core.frame.DataFrame'>\n",
      "DatetimeIndex: 10886 entries, 2011-01-01 00:00:00 to 2012-12-19 23:00:00\n",
      "Data columns (total 16 columns):\n",
      " #   Column      Non-Null Count  Dtype  \n",
      "---  ------      --------------  -----  \n",
      " 0   season      10886 non-null  int64  \n",
      " 1   holiday     10886 non-null  int64  \n",
      " 2   workingday  10886 non-null  int64  \n",
      " 3   weather     10886 non-null  int64  \n",
      " 4   temp        10886 non-null  float64\n",
      " 5   atemp       10886 non-null  float64\n",
      " 6   humidity    10886 non-null  int64  \n",
      " 7   windspeed   10886 non-null  float64\n",
      " 8   casual      10886 non-null  int64  \n",
      " 9   registered  10886 non-null  int64  \n",
      " 10  regcount    10886 non-null  int64  \n",
      " 11  y           10886 non-null  int64  \n",
      " 12  m           10886 non-null  int64  \n",
      " 13  h           10886 non-null  int64  \n",
      " 14  w           10886 non-null  int64  \n",
      " 15  day_type    10886 non-null  int64  \n",
      "dtypes: float64(3), int64(13)\n",
      "memory usage: 1.4 MB\n"
     ]
    }
   ],
   "source": [
    "train.info()"
   ]
  },
  {
   "cell_type": "markdown",
   "id": "713766ac-7ef4-49a9-a8d4-4e60da803978",
   "metadata": {},
   "source": [
    "## 점수보기"
   ]
  },
  {
   "cell_type": "markdown",
   "id": "58d8a990-8a7e-495a-85cb-e6d33244bc68",
   "metadata": {},
   "source": [
    "* class sklearn.linear_model.Ridge(alpha=1.0, *, fit_intercept=True, copy_X=True, max_iter=None, tol=0.0001, solver='auto', positive=False, random_state=None)\n",
    "* class sklearn.linear_model.Lasso(alpha=1.0, *, fit_intercept=True, precompute=False, copy_X=True, max_iter=1000, tol=0.0001, warm_start=False, positive=False, random_state=None, selection='cyclic')"
   ]
  },
  {
   "cell_type": "markdown",
   "id": "12df7e43-3987-426a-aea4-641a57e6c724",
   "metadata": {},
   "source": [
    "### CART 모델\n",
    "* CART : Classification and Regression Tree -> 분류 & 회귀 둘다\n",
    "* 일반적으로 회귀에서는 coef를 찍어봄"
   ]
  },
  {
   "cell_type": "code",
   "execution_count": 9,
   "id": "2869c58b-1a1b-4ba7-9a8c-b0cd35d7c6fa",
   "metadata": {
    "tags": []
   },
   "outputs": [],
   "source": [
    "# coefficient 확인(모델이 학습하는데 중요하게 여긴 피쳐 확인)====================\n",
    "def my_view_chart(model_name, model,X_train):   \n",
    "    # \"RIDGE\"------------------------------------------------------------       \n",
    "    if model_name == \"RIDGE\" :\n",
    "        # model.coef_\n",
    "\n",
    "        s = pd.Series(model.coef_, index=X_train.columns).sort_values()\n",
    "        sns.barplot(x=s.values,y=s.index)\n",
    "        plt.show()\n",
    "\n",
    "    # \"RF\"-------------------------------------------------------------    \n",
    "    elif model_name == \"RF\" :\n",
    "        # model.feature_importances\n",
    "\n",
    "        s = pd.Series(model.feature_importances_,\n",
    "                     index=X_train.columns).sort_values()\n",
    "        sns.barplot(x=s.values,y=s.index)\n",
    "        plt.show()\n",
    "\n",
    "    # \"XGB\"-------------------------------------------------------------    \n",
    "    elif model_name == \"XGB\" :\n",
    "        # model.get_booster().get_score(importance_type='weight')\n",
    "        # 위아래 둘중 하나 사용 model.booster().get_score(importance_type='weight')\n",
    "\n",
    "        s = pd.Series(model.get_booster().get_score(importance_type='weight'),\n",
    "                     index=X_train.columns).sort_values()\n",
    "        sns.barplot(x=s.values,y=s.index)\n",
    "        plt.show()\n",
    "\n",
    "    # \"LGBM\"-------------------------------------------------------------    \n",
    "    elif model_name == \"LGBM\" :\n",
    "        # model.feature_importances\n",
    "\n",
    "        s = pd.Series(model.feature_importances_,\n",
    "                     index=X_train.columns).sort_values()\n",
    "        sns.barplot(x=s.values,y=s.index)\n",
    "        plt.show()\n"
   ]
  },
  {
   "cell_type": "code",
   "execution_count": 10,
   "id": "cb76a413-3251-45d3-96d9-0baf3e8dfa2e",
   "metadata": {},
   "outputs": [],
   "source": [
    "def my_fit_score(df, chart_view=False) :\n",
    "    model_list = [ (\"RIDGE\"  , Ridge(alpha=1.0, random_state=0)),\n",
    "                   (\"LASSO\"  , Lasso(alpha=1.0, random_state=0)),\n",
    "                   (\"DTR\"    , DecisionTreeRegressor(random_state=0)),\n",
    "                   (\"RF\"     , RandomForestRegressor(random_state=0)),\n",
    "                   (\"LR\"     , LinearRegression()                   ),\n",
    "                   (\"ABOOST\" , AdaBoostRegressor(random_state=0)                  ),\n",
    "                   (\"XGB\"    , XGBRegressor(random_state=0)                       ),  #booster=gblinear\n",
    "                   (\"LGBM\"   , LGBMRegressor(random_state=0)                      ),\n",
    "                   (\"VR-XGB-LGBM\"    , VotingRegressor([(\"XGB\", XGBRegressor(random_state=0)), (\"LGBM\", LGBMRegressor(random_state=0))]) ) ,\n",
    "                   (\"VR-RF-LGBM\"    , VotingRegressor([(\"DTR\", RandomForestRegressor(random_state=0)), (\"LGBM\", LGBMRegressor(random_state=0))]) )\n",
    "                 ]\n",
    "    # 회귀에서 target은 ★★★★무조건 스케일링★★★★★★ 함\n",
    "    # target(casual, registered) log 스케일링(log1p)=================================================\n",
    "    # y_c = df['casual'] \n",
    "    # y_r = df['registered'] \n",
    "    y_c = np.log1p(df['casual'])\n",
    "    y_r = np.log1p(df['registered'] )\n",
    "    X = df.drop(['regcount','casual','registered','atemp'], axis=1)\n",
    "    \n",
    "    #=======================================================================================================\n",
    "        # oh-encoding 하는 이유 : \n",
    "            # 1. 이산형 피쳐가 영향력이 없는데 그 값이 커서 영향력이 커 보일때( 연속형은 스케일링으로 해결 가능 )\n",
    "            # 2. ★ 피쳐 전체는 상관이 없어보이지만 피쳐안의 한 값이 target과 영향이 있는 경우 -> 그 영향력 있는 값을 feature화 함\n",
    "            # 3. 0,1로만 이루어진 피쳐는 oh-encoding 하면 다중공선성에 걸려서 오버피팅될 가능성이 높아서 하지 않는게 좋다\n",
    "            #    (예: 남여 -> 남0 1 0 1 0 1 1 1/ 여1 0 1 0 0 0 0---> 남 여는 다중 공선성)\n",
    "            # * 다중공선성에 걸린다고 하더라도 유독 큰 영향력을 미치는 경우에는 다중공선성을 놔두는 경우도 있음 *--> 돌려봐야 알수 있다.\n",
    "            # EDA에서 안에 값들의 영향력을 확인해볼 필요가 있음\n",
    "    \n",
    "    # 이산형 피쳐 인코딩(아래에서)=========================================        \n",
    "    #---- oh - encoding ('season', 'y','h',[ 'm' | 'weather' ],[ 'w' | 'day_type' ]) -----------------------------------------------\n",
    "    #======================================================================\n",
    "    \n",
    "    # 연속형 feature log스케일링 ([temp | atemp],'humidity','windspeed')\n",
    "    X['temp'] = np.log1p(df['temp'] )\n",
    "    X['atemp'] = np.log1p(df['atemp'] )\n",
    "    X['humidity'] = np.log1p(df['humidity'] )\n",
    "    X['windspeed'] = np.log1p(df['windspeed'] )\n",
    "    \n",
    "    #=================================================================================================================    \n",
    "\n",
    "    for tpl in model_list :\n",
    "        print( tpl[0] ) \n",
    "        \n",
    "        model = tpl[1]\n",
    "        X_train, X_test, y_train, y_r_test = train_test_split(X, y_r, random_state=0, test_size=0.2)\n",
    "        model.fit(X_train, y_train)\n",
    "        y_r_pred = model.predict(X_test)\n",
    "        \n",
    "        model = tpl[1]\n",
    "        X_train, X_test, y_train, y_c_test = train_test_split(X, y_c, random_state=0, test_size=0.2)\n",
    "        model.fit(X_train, y_train)\n",
    "        y_c_pred = model.predict(X_test)\n",
    "        \n",
    "        # ========coefficient 확인 함수(모델이 학습하는데 중요하게 여긴 피쳐 확인)====================\n",
    "        if bool(chart_view)==True:\n",
    "            my_view_chart(tpl[0], model,X_train)\n",
    "               \n",
    "        #=================Target피쳐 로그 스케일링 복원(expm1)=====================================\n",
    "        y_pred_comb = np.expm1(y_r_pred)+np.expm1(y_c_pred)\n",
    "        y_pred_comb[y_pred_comb < 0] = 0\n",
    "        \n",
    "        msle_score = mean_squared_log_error(np.expm1(y_r_test)+np.expm1(y_c_test)\n",
    "                                            , y_pred_comb)\n",
    "        #======================================================================================\n",
    "\n",
    "        print(\"RMSLE: \", np.sqrt(msle_score)) \n",
    "        print(\"-\"*30)"
   ]
  },
  {
   "cell_type": "code",
   "execution_count": 11,
   "id": "462705b0-3d75-40a0-96ff-555d157b23b8",
   "metadata": {
    "tags": []
   },
   "outputs": [
    {
     "data": {
      "text/plain": [
       "'Ridge'"
      ]
     },
     "execution_count": 11,
     "metadata": {},
     "output_type": "execute_result"
    }
   ],
   "source": [
    "# 참고 모델 이름 확인하는 방법\n",
    "modelsss = Ridge(alpha=1.0, random_state=0)\n",
    "modelsss.__class__.__name__"
   ]
  },
  {
   "cell_type": "markdown",
   "id": "d3a0e4d1-9b8b-4937-8a0b-7a1bb5923851",
   "metadata": {
    "tags": []
   },
   "source": [
    "## 점수보기"
   ]
  },
  {
   "cell_type": "code",
   "execution_count": 12,
   "id": "b6ae0347-adb7-42d2-893c-41e34307ffee",
   "metadata": {},
   "outputs": [
    {
     "name": "stdout",
     "output_type": "stream",
     "text": [
      "RIDGE\n",
      "RMSLE:  1.0407369387845575\n",
      "------------------------------\n",
      "LASSO\n",
      "RMSLE:  1.1936986757606347\n",
      "------------------------------\n",
      "DTR\n",
      "RMSLE:  0.42258752312380077\n",
      "------------------------------\n",
      "RF\n",
      "RMSLE:  0.30318486583248394\n",
      "------------------------------\n",
      "LR\n",
      "RMSLE:  1.0407958134111113\n",
      "------------------------------\n",
      "ABOOST\n",
      "RMSLE:  0.6612809531090068\n",
      "------------------------------\n",
      "XGB\n",
      "RMSLE:  0.2946722382071027\n",
      "------------------------------\n",
      "LGBM\n",
      "RMSLE:  0.29267251563187974\n",
      "------------------------------\n",
      "VR-XGB-LGBM\n",
      "RMSLE:  0.28593578562901395\n",
      "------------------------------\n",
      "VR-RF-LGBM\n",
      "RMSLE:  0.28899593739957113\n",
      "------------------------------\n"
     ]
    }
   ],
   "source": [
    "my_fit_score(train)\n",
    "# my_fit_score(train,chart_view=True)"
   ]
  },
  {
   "cell_type": "markdown",
   "id": "6b73ed1f-ad41-45be-a611-8cdc85cf1898",
   "metadata": {},
   "source": [
    "* 오버피팅이 됐을 가능성이 높다 "
   ]
  },
  {
   "cell_type": "markdown",
   "id": "df184ea8-1393-4cb6-9fa5-642da70acb90",
   "metadata": {
    "tags": []
   },
   "source": [
    "## windspeed 0 채우기"
   ]
  },
  {
   "cell_type": "code",
   "execution_count": 13,
   "id": "3e425ffa-21f3-4c23-8c10-42a97c669ebd",
   "metadata": {},
   "outputs": [
    {
     "data": {
      "text/plain": [
       "((10886, 16), (6493, 13))"
      ]
     },
     "execution_count": 13,
     "metadata": {},
     "output_type": "execute_result"
    }
   ],
   "source": [
    "train.shape, test.shape"
   ]
  },
  {
   "cell_type": "code",
   "execution_count": 14,
   "id": "bf4d19cc-4b90-40e1-807e-3498347e2643",
   "metadata": {
    "tags": []
   },
   "outputs": [],
   "source": [
    "def my_fill_windspeed(df):\n",
    "    target = df[['regcount','casual','registered']]\n",
    "    df = df.drop(['regcount','casual','registered'], axis=1)\n",
    "\n",
    "    df1   = df[df['windspeed'] != 0]\n",
    "    y_df1 = df1['windspeed']\n",
    "    X_df1 = df1.drop('windspeed', axis=1)\n",
    "    \n",
    "    rf = RandomForestRegressor(random_state=11)\n",
    "    X_df1_8, X_df1_2, y_df1_8, y_df1_2 = train_test_split(X_df1, y_df1, test_size=0.2,random_state=11)\n",
    "    rf.fit(X_df1_8, y_df1_8)\n",
    "    \n",
    "    pred = rf.predict(X_df1_2)\n",
    "    mse_score = mean_squared_error(y_df1_2, pred)\n",
    "    print(\"RMSE : \", np.sqrt(mse_score) )\n",
    "\n",
    "    df0 = df[df['windspeed'] == 0]\n",
    "    y_df0 = df0['windspeed']\n",
    "    X_df0 = df0.drop('windspeed', axis=1)\n",
    "    pred = rf.predict(X_df0)\n",
    "    widx = X_df0.index.values\n",
    "    df.loc[widx, 'windspeed'] = pred\n",
    "    return pd.concat([df, target], axis=1)"
   ]
  },
  {
   "cell_type": "code",
   "execution_count": 15,
   "id": "e8f42329-3280-4766-95c0-190a44312815",
   "metadata": {
    "tags": []
   },
   "outputs": [
    {
     "name": "stdout",
     "output_type": "stream",
     "text": [
      "RMSE :  4.859093922505261\n"
     ]
    }
   ],
   "source": [
    "df = pd.concat([train, test], axis=0, ignore_index=True)\n",
    "train_idx = df.iloc[:train.shape[0], :].index\n",
    "test_idx  = df.iloc[train.shape[0]:, :].index\n",
    "#---------------------------------\n",
    "df = my_fill_windspeed(df)\n",
    "#---------------------------------\n",
    "train = df.loc[train_idx]\n",
    "test  = df.loc[test_idx]\n",
    "test = test.reset_index(drop=True)"
   ]
  },
  {
   "cell_type": "markdown",
   "id": "973ff84e-4f20-4f8d-837f-b8a222493542",
   "metadata": {},
   "source": [
    "## Outlier 처리\n",
    "* <font color=red size=4><b>train에만 처리"
   ]
  },
  {
   "cell_type": "code",
   "execution_count": 16,
   "id": "c7751794-c00a-4444-9788-7404b687e85e",
   "metadata": {},
   "outputs": [
    {
     "name": "stdout",
     "output_type": "stream",
     "text": [
      "(10886, 16) (6493, 16)\n",
      "(10880, 16) (6493, 16)\n"
     ]
    }
   ],
   "source": [
    "print(train.shape, test.shape)\n",
    "\n",
    "del_idx_list = []\n",
    "idx = train[train['weather']==4].index\n",
    "del_idx_list.extend(idx)\n",
    "idx = train[train['temp']>40].index\n",
    "del_idx_list.extend(idx)\n",
    "idx = train[train['windspeed']>50].index\n",
    "del_idx_list.extend(idx)\n",
    "train.drop(del_idx_list, axis=0, inplace=True)\n",
    "\n",
    "print(train.shape, test.shape)"
   ]
  },
  {
   "cell_type": "markdown",
   "id": "47e60563-6858-4f68-9037-0e6a07c3df93",
   "metadata": {
    "tags": []
   },
   "source": [
    "## 점수보기"
   ]
  },
  {
   "cell_type": "code",
   "execution_count": 17,
   "id": "78ef2f51-e648-4098-8c7a-4131b55f37ba",
   "metadata": {},
   "outputs": [
    {
     "name": "stdout",
     "output_type": "stream",
     "text": [
      "RIDGE\n",
      "RMSLE:  1.0107254248147783\n",
      "------------------------------\n",
      "LASSO\n",
      "RMSLE:  1.1586806301168795\n",
      "------------------------------\n",
      "DTR\n",
      "RMSLE:  0.41785492315015227\n",
      "------------------------------\n",
      "RF\n",
      "RMSLE:  0.31037701695599296\n",
      "------------------------------\n",
      "LR\n",
      "RMSLE:  1.0107383744316825\n",
      "------------------------------\n",
      "ABOOST\n",
      "RMSLE:  0.6351120253029393\n",
      "------------------------------\n",
      "XGB\n",
      "RMSLE:  0.293661780411232\n",
      "------------------------------\n",
      "LGBM\n",
      "RMSLE:  0.29156622298744417\n",
      "------------------------------\n",
      "VR-XGB-LGBM\n",
      "RMSLE:  0.28587659072801236\n",
      "------------------------------\n",
      "VR-RF-LGBM\n",
      "RMSLE:  0.29278110243225547\n",
      "------------------------------\n"
     ]
    }
   ],
   "source": [
    "my_fit_score(train)\n",
    "# my_fit_score(train,chart_view=True)"
   ]
  },
  {
   "cell_type": "markdown",
   "id": "cf53d9e4-c547-4145-ac22-8a1a239c9469",
   "metadata": {},
   "source": [
    "## 인코딩"
   ]
  },
  {
   "cell_type": "code",
   "execution_count": 18,
   "id": "c27c76c8-12b8-41cd-8a90-e4908b77c6ba",
   "metadata": {
    "tags": []
   },
   "outputs": [
    {
     "data": {
      "image/png": "[encoded data removed]",
      "text/plain": [
       "<Figure size 640x480 with 2 Axes>"
      ]
     },
     "metadata": {},
     "output_type": "display_data"
    }
   ],
   "source": [
    "sns.heatmap(df[['casual','registered','season', 'weather', 'temp', 'y', 'm', 'h', 'w', 'day_type']].corr(),annot=True,fmt='.2f',cmap='coolwarm')\n",
    "plt.show()"
   ]
  },
  {
   "cell_type": "markdown",
   "id": "17f789e9-72a5-4cb5-a8b1-e192d9a44636",
   "metadata": {},
   "source": [
    "### 다중 공선성 의심\n",
    "* 'season', 'm'\n",
    "* 'day_type', 'w'\n",
    "* 'temp' , 'atemp'"
   ]
  },
  {
   "cell_type": "code",
   "execution_count": 19,
   "id": "13dd49db-6e64-4947-aca4-1c9d82d2d852",
   "metadata": {},
   "outputs": [
    {
     "data": {
      "text/html": [
       "<div>\n",
       "<style scoped>\n",
       "    .dataframe tbody tr th:only-of-type {\n",
       "        vertical-align: middle;\n",
       "    }\n",
       "\n",
       "    .dataframe tbody tr th {\n",
       "        vertical-align: top;\n",
       "    }\n",
       "\n",
       "    .dataframe thead th {\n",
       "        text-align: right;\n",
       "    }\n",
       "</style>\n",
       "<table border=\"1\" class=\"dataframe\">\n",
       "  <thead>\n",
       "    <tr style=\"text-align: right;\">\n",
       "      <th></th>\n",
       "      <th>holiday</th>\n",
       "      <th>workingday</th>\n",
       "      <th>atemp</th>\n",
       "      <th>humidity</th>\n",
       "      <th>windspeed</th>\n",
       "      <th>regcount</th>\n",
       "      <th>casual</th>\n",
       "      <th>registered</th>\n",
       "      <th>season_1</th>\n",
       "      <th>season_2</th>\n",
       "      <th>season_3</th>\n",
       "      <th>season_4</th>\n",
       "      <th>weather_1</th>\n",
       "      <th>weather_2</th>\n",
       "      <th>weather_3</th>\n",
       "      <th>weather_4</th>\n",
       "      <th>temp_0.82</th>\n",
       "      <th>temp_1.64</th>\n",
       "      <th>temp_2.46</th>\n",
       "      <th>temp_3.28</th>\n",
       "      <th>temp_4.1</th>\n",
       "      <th>temp_4.92</th>\n",
       "      <th>temp_5.74</th>\n",
       "      <th>temp_6.56</th>\n",
       "      <th>temp_7.38</th>\n",
       "      <th>temp_8.2</th>\n",
       "      <th>temp_9.02</th>\n",
       "      <th>temp_9.84</th>\n",
       "      <th>temp_10.66</th>\n",
       "      <th>temp_11.48</th>\n",
       "      <th>temp_12.3</th>\n",
       "      <th>temp_13.12</th>\n",
       "      <th>temp_13.94</th>\n",
       "      <th>temp_14.76</th>\n",
       "      <th>temp_15.58</th>\n",
       "      <th>temp_16.4</th>\n",
       "      <th>temp_17.22</th>\n",
       "      <th>temp_18.04</th>\n",
       "      <th>temp_18.86</th>\n",
       "      <th>temp_19.68</th>\n",
       "      <th>temp_20.5</th>\n",
       "      <th>temp_21.32</th>\n",
       "      <th>temp_22.14</th>\n",
       "      <th>temp_22.96</th>\n",
       "      <th>temp_23.78</th>\n",
       "      <th>temp_24.6</th>\n",
       "      <th>temp_25.42</th>\n",
       "      <th>temp_26.24</th>\n",
       "      <th>temp_27.06</th>\n",
       "      <th>temp_27.88</th>\n",
       "      <th>...</th>\n",
       "      <th>temp_40.18</th>\n",
       "      <th>temp_41.0</th>\n",
       "      <th>y_2011</th>\n",
       "      <th>y_2012</th>\n",
       "      <th>m_1</th>\n",
       "      <th>m_2</th>\n",
       "      <th>m_3</th>\n",
       "      <th>m_4</th>\n",
       "      <th>m_5</th>\n",
       "      <th>m_6</th>\n",
       "      <th>m_7</th>\n",
       "      <th>m_8</th>\n",
       "      <th>m_9</th>\n",
       "      <th>m_10</th>\n",
       "      <th>m_11</th>\n",
       "      <th>m_12</th>\n",
       "      <th>h_0</th>\n",
       "      <th>h_1</th>\n",
       "      <th>h_2</th>\n",
       "      <th>h_3</th>\n",
       "      <th>h_4</th>\n",
       "      <th>h_5</th>\n",
       "      <th>h_6</th>\n",
       "      <th>h_7</th>\n",
       "      <th>h_8</th>\n",
       "      <th>h_9</th>\n",
       "      <th>h_10</th>\n",
       "      <th>h_11</th>\n",
       "      <th>h_12</th>\n",
       "      <th>h_13</th>\n",
       "      <th>h_14</th>\n",
       "      <th>h_15</th>\n",
       "      <th>h_16</th>\n",
       "      <th>h_17</th>\n",
       "      <th>h_18</th>\n",
       "      <th>h_19</th>\n",
       "      <th>h_20</th>\n",
       "      <th>h_21</th>\n",
       "      <th>h_22</th>\n",
       "      <th>h_23</th>\n",
       "      <th>w_0</th>\n",
       "      <th>w_1</th>\n",
       "      <th>w_2</th>\n",
       "      <th>w_3</th>\n",
       "      <th>w_4</th>\n",
       "      <th>w_5</th>\n",
       "      <th>w_6</th>\n",
       "      <th>day_type_0</th>\n",
       "      <th>day_type_1</th>\n",
       "      <th>day_type_2</th>\n",
       "    </tr>\n",
       "  </thead>\n",
       "  <tbody>\n",
       "    <tr>\n",
       "      <th>0</th>\n",
       "      <td>0</td>\n",
       "      <td>0</td>\n",
       "      <td>14.395</td>\n",
       "      <td>81</td>\n",
       "      <td>7.162300</td>\n",
       "      <td>16.0</td>\n",
       "      <td>3.0</td>\n",
       "      <td>13.0</td>\n",
       "      <td>1</td>\n",
       "      <td>0</td>\n",
       "      <td>0</td>\n",
       "      <td>0</td>\n",
       "      <td>1</td>\n",
       "      <td>0</td>\n",
       "      <td>0</td>\n",
       "      <td>0</td>\n",
       "      <td>0</td>\n",
       "      <td>0</td>\n",
       "      <td>0</td>\n",
       "      <td>0</td>\n",
       "      <td>0</td>\n",
       "      <td>0</td>\n",
       "      <td>0</td>\n",
       "      <td>0</td>\n",
       "      <td>0</td>\n",
       "      <td>0</td>\n",
       "      <td>0</td>\n",
       "      <td>1</td>\n",
       "      <td>0</td>\n",
       "      <td>0</td>\n",
       "      <td>0</td>\n",
       "      <td>0</td>\n",
       "      <td>0</td>\n",
       "      <td>0</td>\n",
       "      <td>0</td>\n",
       "      <td>0</td>\n",
       "      <td>0</td>\n",
       "      <td>0</td>\n",
       "      <td>0</td>\n",
       "      <td>0</td>\n",
       "      <td>0</td>\n",
       "      <td>0</td>\n",
       "      <td>0</td>\n",
       "      <td>0</td>\n",
       "      <td>0</td>\n",
       "      <td>0</td>\n",
       "      <td>0</td>\n",
       "      <td>0</td>\n",
       "      <td>0</td>\n",
       "      <td>0</td>\n",
       "      <td>...</td>\n",
       "      <td>0</td>\n",
       "      <td>0</td>\n",
       "      <td>1</td>\n",
       "      <td>0</td>\n",
       "      <td>1</td>\n",
       "      <td>0</td>\n",
       "      <td>0</td>\n",
       "      <td>0</td>\n",
       "      <td>0</td>\n",
       "      <td>0</td>\n",
       "      <td>0</td>\n",
       "      <td>0</td>\n",
       "      <td>0</td>\n",
       "      <td>0</td>\n",
       "      <td>0</td>\n",
       "      <td>0</td>\n",
       "      <td>1</td>\n",
       "      <td>0</td>\n",
       "      <td>0</td>\n",
       "      <td>0</td>\n",
       "      <td>0</td>\n",
       "      <td>0</td>\n",
       "      <td>0</td>\n",
       "      <td>0</td>\n",
       "      <td>0</td>\n",
       "      <td>0</td>\n",
       "      <td>0</td>\n",
       "      <td>0</td>\n",
       "      <td>0</td>\n",
       "      <td>0</td>\n",
       "      <td>0</td>\n",
       "      <td>0</td>\n",
       "      <td>0</td>\n",
       "      <td>0</td>\n",
       "      <td>0</td>\n",
       "      <td>0</td>\n",
       "      <td>0</td>\n",
       "      <td>0</td>\n",
       "      <td>0</td>\n",
       "      <td>0</td>\n",
       "      <td>0</td>\n",
       "      <td>0</td>\n",
       "      <td>0</td>\n",
       "      <td>0</td>\n",
       "      <td>0</td>\n",
       "      <td>1</td>\n",
       "      <td>0</td>\n",
       "      <td>1</td>\n",
       "      <td>0</td>\n",
       "      <td>0</td>\n",
       "    </tr>\n",
       "    <tr>\n",
       "      <th>1</th>\n",
       "      <td>0</td>\n",
       "      <td>0</td>\n",
       "      <td>13.635</td>\n",
       "      <td>80</td>\n",
       "      <td>6.922306</td>\n",
       "      <td>40.0</td>\n",
       "      <td>8.0</td>\n",
       "      <td>32.0</td>\n",
       "      <td>1</td>\n",
       "      <td>0</td>\n",
       "      <td>0</td>\n",
       "      <td>0</td>\n",
       "      <td>1</td>\n",
       "      <td>0</td>\n",
       "      <td>0</td>\n",
       "      <td>0</td>\n",
       "      <td>0</td>\n",
       "      <td>0</td>\n",
       "      <td>0</td>\n",
       "      <td>0</td>\n",
       "      <td>0</td>\n",
       "      <td>0</td>\n",
       "      <td>0</td>\n",
       "      <td>0</td>\n",
       "      <td>0</td>\n",
       "      <td>0</td>\n",
       "      <td>1</td>\n",
       "      <td>0</td>\n",
       "      <td>0</td>\n",
       "      <td>0</td>\n",
       "      <td>0</td>\n",
       "      <td>0</td>\n",
       "      <td>0</td>\n",
       "      <td>0</td>\n",
       "      <td>0</td>\n",
       "      <td>0</td>\n",
       "      <td>0</td>\n",
       "      <td>0</td>\n",
       "      <td>0</td>\n",
       "      <td>0</td>\n",
       "      <td>0</td>\n",
       "      <td>0</td>\n",
       "      <td>0</td>\n",
       "      <td>0</td>\n",
       "      <td>0</td>\n",
       "      <td>0</td>\n",
       "      <td>0</td>\n",
       "      <td>0</td>\n",
       "      <td>0</td>\n",
       "      <td>0</td>\n",
       "      <td>...</td>\n",
       "      <td>0</td>\n",
       "      <td>0</td>\n",
       "      <td>1</td>\n",
       "      <td>0</td>\n",
       "      <td>1</td>\n",
       "      <td>0</td>\n",
       "      <td>0</td>\n",
       "      <td>0</td>\n",
       "      <td>0</td>\n",
       "      <td>0</td>\n",
       "      <td>0</td>\n",
       "      <td>0</td>\n",
       "      <td>0</td>\n",
       "      <td>0</td>\n",
       "      <td>0</td>\n",
       "      <td>0</td>\n",
       "      <td>0</td>\n",
       "      <td>1</td>\n",
       "      <td>0</td>\n",
       "      <td>0</td>\n",
       "      <td>0</td>\n",
       "      <td>0</td>\n",
       "      <td>0</td>\n",
       "      <td>0</td>\n",
       "      <td>0</td>\n",
       "      <td>0</td>\n",
       "      <td>0</td>\n",
       "      <td>0</td>\n",
       "      <td>0</td>\n",
       "      <td>0</td>\n",
       "      <td>0</td>\n",
       "      <td>0</td>\n",
       "      <td>0</td>\n",
       "      <td>0</td>\n",
       "      <td>0</td>\n",
       "      <td>0</td>\n",
       "      <td>0</td>\n",
       "      <td>0</td>\n",
       "      <td>0</td>\n",
       "      <td>0</td>\n",
       "      <td>0</td>\n",
       "      <td>0</td>\n",
       "      <td>0</td>\n",
       "      <td>0</td>\n",
       "      <td>0</td>\n",
       "      <td>1</td>\n",
       "      <td>0</td>\n",
       "      <td>1</td>\n",
       "      <td>0</td>\n",
       "      <td>0</td>\n",
       "    </tr>\n",
       "    <tr>\n",
       "      <th>2</th>\n",
       "      <td>0</td>\n",
       "      <td>0</td>\n",
       "      <td>13.635</td>\n",
       "      <td>80</td>\n",
       "      <td>6.872458</td>\n",
       "      <td>32.0</td>\n",
       "      <td>5.0</td>\n",
       "      <td>27.0</td>\n",
       "      <td>1</td>\n",
       "      <td>0</td>\n",
       "      <td>0</td>\n",
       "      <td>0</td>\n",
       "      <td>1</td>\n",
       "      <td>0</td>\n",
       "      <td>0</td>\n",
       "      <td>0</td>\n",
       "      <td>0</td>\n",
       "      <td>0</td>\n",
       "      <td>0</td>\n",
       "      <td>0</td>\n",
       "      <td>0</td>\n",
       "      <td>0</td>\n",
       "      <td>0</td>\n",
       "      <td>0</td>\n",
       "      <td>0</td>\n",
       "      <td>0</td>\n",
       "      <td>1</td>\n",
       "      <td>0</td>\n",
       "      <td>0</td>\n",
       "      <td>0</td>\n",
       "      <td>0</td>\n",
       "      <td>0</td>\n",
       "      <td>0</td>\n",
       "      <td>0</td>\n",
       "      <td>0</td>\n",
       "      <td>0</td>\n",
       "      <td>0</td>\n",
       "      <td>0</td>\n",
       "      <td>0</td>\n",
       "      <td>0</td>\n",
       "      <td>0</td>\n",
       "      <td>0</td>\n",
       "      <td>0</td>\n",
       "      <td>0</td>\n",
       "      <td>0</td>\n",
       "      <td>0</td>\n",
       "      <td>0</td>\n",
       "      <td>0</td>\n",
       "      <td>0</td>\n",
       "      <td>0</td>\n",
       "      <td>...</td>\n",
       "      <td>0</td>\n",
       "      <td>0</td>\n",
       "      <td>1</td>\n",
       "      <td>0</td>\n",
       "      <td>1</td>\n",
       "      <td>0</td>\n",
       "      <td>0</td>\n",
       "      <td>0</td>\n",
       "      <td>0</td>\n",
       "      <td>0</td>\n",
       "      <td>0</td>\n",
       "      <td>0</td>\n",
       "      <td>0</td>\n",
       "      <td>0</td>\n",
       "      <td>0</td>\n",
       "      <td>0</td>\n",
       "      <td>0</td>\n",
       "      <td>0</td>\n",
       "      <td>1</td>\n",
       "      <td>0</td>\n",
       "      <td>0</td>\n",
       "      <td>0</td>\n",
       "      <td>0</td>\n",
       "      <td>0</td>\n",
       "      <td>0</td>\n",
       "      <td>0</td>\n",
       "      <td>0</td>\n",
       "      <td>0</td>\n",
       "      <td>0</td>\n",
       "      <td>0</td>\n",
       "      <td>0</td>\n",
       "      <td>0</td>\n",
       "      <td>0</td>\n",
       "      <td>0</td>\n",
       "      <td>0</td>\n",
       "      <td>0</td>\n",
       "      <td>0</td>\n",
       "      <td>0</td>\n",
       "      <td>0</td>\n",
       "      <td>0</td>\n",
       "      <td>0</td>\n",
       "      <td>0</td>\n",
       "      <td>0</td>\n",
       "      <td>0</td>\n",
       "      <td>0</td>\n",
       "      <td>1</td>\n",
       "      <td>0</td>\n",
       "      <td>1</td>\n",
       "      <td>0</td>\n",
       "      <td>0</td>\n",
       "    </tr>\n",
       "  </tbody>\n",
       "</table>\n",
       "<p>3 rows × 114 columns</p>\n",
       "</div>"
      ],
      "text/plain": [
       "   holiday  workingday   atemp  humidity  windspeed  regcount  casual  \\\n",
       "0        0           0  14.395        81   7.162300      16.0     3.0   \n",
       "1        0           0  13.635        80   6.922306      40.0     8.0   \n",
       "2        0           0  13.635        80   6.872458      32.0     5.0   \n",
       "\n",
       "   registered  season_1  season_2  season_3  season_4  weather_1  weather_2  \\\n",
       "0        13.0         1         0         0         0          1          0   \n",
       "1        32.0         1         0         0         0          1          0   \n",
       "2        27.0         1         0         0         0          1          0   \n",
       "\n",
       "   weather_3  weather_4  temp_0.82  temp_1.64  temp_2.46  temp_3.28  temp_4.1  \\\n",
       "0          0          0          0          0          0          0         0   \n",
       "1          0          0          0          0          0          0         0   \n",
       "2          0          0          0          0          0          0         0   \n",
       "\n",
       "   temp_4.92  temp_5.74  temp_6.56  temp_7.38  temp_8.2  temp_9.02  temp_9.84  \\\n",
       "0          0          0          0          0         0          0          1   \n",
       "1          0          0          0          0         0          1          0   \n",
       "2          0          0          0          0         0          1          0   \n",
       "\n",
       "   temp_10.66  temp_11.48  temp_12.3  temp_13.12  temp_13.94  temp_14.76  \\\n",
       "0           0           0          0           0           0           0   \n",
       "1           0           0          0           0           0           0   \n",
       "2           0           0          0           0           0           0   \n",
       "\n",
       "   temp_15.58  temp_16.4  temp_17.22  temp_18.04  temp_18.86  temp_19.68  \\\n",
       "0           0          0           0           0           0           0   \n",
       "1           0          0           0           0           0           0   \n",
       "2           0          0           0           0           0           0   \n",
       "\n",
       "   temp_20.5  temp_21.32  temp_22.14  temp_22.96  temp_23.78  temp_24.6  \\\n",
       "0          0           0           0           0           0          0   \n",
       "1          0           0           0           0           0          0   \n",
       "2          0           0           0           0           0          0   \n",
       "\n",
       "   temp_25.42  temp_26.24  temp_27.06  temp_27.88  ...  temp_40.18  temp_41.0  \\\n",
       "0           0           0           0           0  ...           0          0   \n",
       "1           0           0           0           0  ...           0          0   \n",
       "2           0           0           0           0  ...           0          0   \n",
       "\n",
       "   y_2011  y_2012  m_1  m_2  m_3  m_4  m_5  m_6  m_7  m_8  m_9  m_10  m_11  \\\n",
       "0       1       0    1    0    0    0    0    0    0    0    0     0     0   \n",
       "1       1       0    1    0    0    0    0    0    0    0    0     0     0   \n",
       "2       1       0    1    0    0    0    0    0    0    0    0     0     0   \n",
       "\n",
       "   m_12  h_0  h_1  h_2  h_3  h_4  h_5  h_6  h_7  h_8  h_9  h_10  h_11  h_12  \\\n",
       "0     0    1    0    0    0    0    0    0    0    0    0     0     0     0   \n",
       "1     0    0    1    0    0    0    0    0    0    0    0     0     0     0   \n",
       "2     0    0    0    1    0    0    0    0    0    0    0     0     0     0   \n",
       "\n",
       "   h_13  h_14  h_15  h_16  h_17  h_18  h_19  h_20  h_21  h_22  h_23  w_0  w_1  \\\n",
       "0     0     0     0     0     0     0     0     0     0     0     0    0    0   \n",
       "1     0     0     0     0     0     0     0     0     0     0     0    0    0   \n",
       "2     0     0     0     0     0     0     0     0     0     0     0    0    0   \n",
       "\n",
       "   w_2  w_3  w_4  w_5  w_6  day_type_0  day_type_1  day_type_2  \n",
       "0    0    0    0    1    0           1           0           0  \n",
       "1    0    0    0    1    0           1           0           0  \n",
       "2    0    0    0    1    0           1           0           0  \n",
       "\n",
       "[3 rows x 114 columns]"
      ]
     },
     "execution_count": 19,
     "metadata": {},
     "output_type": "execute_result"
    }
   ],
   "source": [
    "df = pd.get_dummies(df,columns=['season', 'weather', 'temp', 'y', 'm', 'h', 'w', 'day_type'])\n",
    "df.head(3)"
   ]
  },
  {
   "cell_type": "code",
   "execution_count": 20,
   "id": "f96e4ed6-7295-4dc5-b51b-1f22bc4468d5",
   "metadata": {
    "tags": []
   },
   "outputs": [
    {
     "data": {
      "text/plain": [
       "Index(['holiday', 'workingday', 'atemp', 'humidity', 'windspeed', 'regcount',\n",
       "       'casual', 'registered', 'season_1', 'season_2',\n",
       "       ...\n",
       "       'w_0', 'w_1', 'w_2', 'w_3', 'w_4', 'w_5', 'w_6', 'day_type_0',\n",
       "       'day_type_1', 'day_type_2'],\n",
       "      dtype='object', length=114)"
      ]
     },
     "execution_count": 20,
     "metadata": {},
     "output_type": "execute_result"
    }
   ],
   "source": [
    "df.columns\n",
    "# 'holiday','workingday','atemp','humidity','windspeed','regcount','casual','registered',\n",
    "# 'weather_1','weather_2','weather_3','weather_4',\n",
    "# 'temp_0.82','temp_1.64','temp_2.46','temp_3.28','temp_4.1','temp_4.92','temp_5.74','temp_6.56\ttemp_7.38','temp_8.2','temp_9.02','temp_9.84','temp_10.66','temp_11.48','temp_12.3','temp_13.12','temp_13.94','temp_14.76','temp_15.58','temp_16.4','temp_17.22','temp_18.04','temp_18.86','temp_19.68','temp_20.5','temp_21.32','temp_22.14','temp_22.96','temp_23.78','temp_24.6','temp_25.42','temp_26.24','temp_27.06','temp_27.88',\n",
    "# 'h_0','h_1','h_2','h_3','h_4','h_5','h_6','h_7','h_8','h_9','h_10','h_11','h_12','h_13','h_14','h_15','h_16','h_17','h_18','h_19','h_20','h_21','h_22','h_23',\n",
    "\n",
    "# 다중공선성==========================\n",
    "# 'w_0','w_1','w_2','w_3','w_4','w_5','w_6',\n",
    "# 'day_type_0','day_type_1','day_type_2'\n",
    "\n",
    "# 'season_1','season_2','season_3','season_4',\n",
    "#  m_1','m_2','m_3','m_4','m_5','m_6','m_7','m_8','m_9','m_10','m_11','m_12'"
   ]
  },
  {
   "cell_type": "markdown",
   "id": "78a9546a-80ba-442f-b01b-442367cb9252",
   "metadata": {},
   "source": [
    "### 인코딩 한 결과를 히트맵으로 확인"
   ]
  },
  {
   "cell_type": "code",
   "execution_count": 21,
   "id": "97ee7837-4148-4e61-beec-6211918d4e33",
   "metadata": {},
   "outputs": [],
   "source": [
    "# 너무 많아서 한번에 확인되지 않음 -> 따로 떼서 보기\n",
    "# sns.heatmap(df.corr(),annot=True,fmt=\".2f\")\n",
    "# plt.show()"
   ]
  },
  {
   "cell_type": "markdown",
   "id": "d77c8815-a400-4774-bf01-3e4f789b9a60",
   "metadata": {
    "tags": []
   },
   "source": [
    "## 점수보기\n",
    "* RF\n",
    "RMSLE:  0.3288546947603633"
   ]
  },
  {
   "cell_type": "code",
   "execution_count": 22,
   "id": "79315927-e04b-44ed-b6be-121e82af0cbd",
   "metadata": {
    "tags": []
   },
   "outputs": [
    {
     "name": "stdout",
     "output_type": "stream",
     "text": [
      "RIDGE\n",
      "RMSLE:  1.0107254248147783\n",
      "------------------------------\n",
      "LASSO\n",
      "RMSLE:  1.1586806301168795\n",
      "------------------------------\n",
      "DTR\n",
      "RMSLE:  0.41785492315015227\n",
      "------------------------------\n",
      "RF\n",
      "RMSLE:  0.31037701695599296\n",
      "------------------------------\n",
      "LR\n",
      "RMSLE:  1.0107383744316825\n",
      "------------------------------\n",
      "ABOOST\n",
      "RMSLE:  0.6351120253029393\n",
      "------------------------------\n",
      "XGB\n",
      "RMSLE:  0.293661780411232\n",
      "------------------------------\n",
      "LGBM\n",
      "RMSLE:  0.29156622298744417\n",
      "------------------------------\n",
      "VR-XGB-LGBM\n",
      "RMSLE:  0.28587659072801236\n",
      "------------------------------\n",
      "VR-RF-LGBM\n",
      "RMSLE:  0.29278110243225547\n",
      "------------------------------\n"
     ]
    }
   ],
   "source": [
    "my_fit_score(train)"
   ]
  },
  {
   "cell_type": "code",
   "execution_count": 23,
   "id": "ce0c1efa-09fd-468e-b934-051418d197fd",
   "metadata": {},
   "outputs": [
    {
     "ename": "NameError",
     "evalue": "name 'dfsfsdfs' is not defined",
     "output_type": "error",
     "traceback": [
      "\u001b[1;31m---------------------------------------------------------------------------\u001b[0m",
      "\u001b[1;31mNameError\u001b[0m                                 Traceback (most recent call last)",
      "Cell \u001b[1;32mIn[23], line 1\u001b[0m\n\u001b[1;32m----> 1\u001b[0m \u001b[43mdfsfsdfs\u001b[49m\n",
      "\u001b[1;31mNameError\u001b[0m: name 'dfsfsdfs' is not defined"
     ]
    }
   ],
   "source": [
    "dfsfsdfs"
   ]
  },
  {
   "cell_type": "markdown",
   "id": "328061ee-5e1e-4e06-ad11-2607eb40d47e",
   "metadata": {},
   "source": [
    "# 학습"
   ]
  },
  {
   "cell_type": "markdown",
   "id": "c81fafb0-dcfe-4eef-9212-2b4940f1a759",
   "metadata": {},
   "source": [
    "## 타켓 선정\n",
    "* 답안지 : count 제출\n",
    "* regcount(A패턴)  = registered(A2패턴) + casual (B패턴) \n",
    "* <font color=red><b>registered(A2패턴) + casual (B패턴)  --> 이 값을 답안으로 제출"
   ]
  },
  {
   "cell_type": "markdown",
   "id": "d8840974-b788-4b7c-accc-c40b3761e5ba",
   "metadata": {},
   "source": [
    "# 최종피쳐 선정"
   ]
  },
  {
   "cell_type": "code",
   "execution_count": null,
   "id": "6e6f5611-73be-46cd-9554-9d4468b8dd1b",
   "metadata": {
    "tags": []
   },
   "outputs": [],
   "source": [
    "train.columns"
   ]
  },
  {
   "cell_type": "markdown",
   "id": "077a002e-07b9-4fc2-849f-a3ea1cb02568",
   "metadata": {},
   "source": [
    "<pre>\n",
    "타겟(1) : 'casual' + 'registered'\n",
    "타겟(2) : 'regcount'\n",
    "\n",
    "\n",
    "'d' 피쳐 삭제\n",
    "('m', 'h'),  'y', 'd' -->'w'\n",
    "\n",
    "\n",
    "(+)3개 : 'holiday', 'workingday', 'day_type'\n",
    "(+)2개 : 'holiday', 'workingday'\n",
    "(+)1개 : 'day_type'\n",
    "\n",
    "\n",
    "'weather', 'humidity',  'season', \n",
    "(+)'windspeed' : 'h' 비례? / 'm' 반비례?\n",
    "\n",
    "\n",
    "다중공선 : (상관계수가 높은 경우)\n",
    "'regcount' 'registered' 'casual' : 0.97  --> 'regcount' vs. 'registered'+'casual'\n",
    "'temp' 'atemp'                   : 0.98  --> 'atemp' drop\n",
    "\n",
    "선택적으로 모델에 적용\n",
    "(+)'w' 'day_type' : -0.78\n",
    "(+)'season' 'm'   : 0.97\n",
    "\n",
    "\n",
    "* ('m', 'h'),  'y', 'w', 'weather', 'humidity',  'season', 'temp'\n",
    "* (+)'windspeed'\n",
    "* (+)('holiday', 'workingday'), ('day_type')\n",
    "* (+)('w' 'day_type') : -0.78\n",
    "* (+)('m') 'season'    : 0.97\n"
   ]
  },
  {
   "cell_type": "markdown",
   "id": "c0170e1c-622a-474f-8e83-115efec9dbb1",
   "metadata": {},
   "source": [
    "## 점수보기"
   ]
  },
  {
   "cell_type": "markdown",
   "id": "f9f44540-aad7-4407-943f-ba61f0940662",
   "metadata": {},
   "source": [
    "# 학습 & 평가\n",
    "* ref : https://suboptimal.wiki/explanation/mse/"
   ]
  },
  {
   "cell_type": "markdown",
   "id": "d4ca8694-1699-495a-bb89-0ccf8cc7082f",
   "metadata": {},
   "source": [
    "*  $ RMSLE = \\sqrt{\\frac{1}{n}\\Sigma_{i=1}^{n}{\\Big(\\frac{log(Y_i+1) - log(\\hat{Y_i}+1)}{N}\\Big)^2}}$"
   ]
  },
  {
   "cell_type": "code",
   "execution_count": null,
   "id": "53560b15-d563-4383-aae7-dd23f0c05aa7",
   "metadata": {
    "tags": []
   },
   "outputs": [],
   "source": [
    "score_df = pd.DataFrame(score_list, columns=[\"model\",\"col\",\"mse\",\"rmse\"])\n",
    "score_df"
   ]
  },
  {
   "cell_type": "code",
   "execution_count": null,
   "id": "8e6e9d8a-11ea-478a-9299-023f1a7cd312",
   "metadata": {
    "tags": []
   },
   "outputs": [],
   "source": [
    "plt.figure(figsize=(8,3))\n",
    "ax1 = plt.subplot(1,2,1)\n",
    "ax1.set_title(\"RMSE\")\n",
    "sns.barplot(\n",
    "    data= score_df,\n",
    "    x= \"model\",\n",
    "    y= \"rmse\" ,\n",
    "    hue = \"col\",\n",
    "    ax = ax1\n",
    "    \n",
    ")\n",
    "ax2 = plt.subplot(1,2,2)\n",
    "ax2.set_title(\"MSE\")\n",
    "sns.barplot(\n",
    "    data= score_df,\n",
    "    x= \"model\",\n",
    "    y= \"mse\" ,\n",
    "    hue = \"col\",\n",
    "    ax = ax2\n",
    ")\n",
    "plt.show()"
   ]
  },
  {
   "cell_type": "code",
   "execution_count": null,
   "id": "286c837d-27a3-4a3a-a987-65ffc2cc0391",
   "metadata": {
    "tags": []
   },
   "outputs": [],
   "source": [
    "# regcount(A패턴)  = registered(A2패턴) + casual (B패턴) \n",
    "score_regcount   = mean_squared_error(y_test['regcount']    , y_pred.T[0])\n",
    "score_casual     = mean_squared_error(y_test['casual'], y_pred.T[1])\n",
    "score_registered = mean_squared_error(y_test['registered']  , y_pred.T[2])\n",
    "\n",
    "print(score_regcount, score_casual, score_registered)"
   ]
  }
 ],
 "metadata": {
  "kernelspec": {
   "display_name": "Python 3 (ipykernel)",
   "language": "python",
   "name": "python3"
  },
  "language_info": {
   "codemirror_mode": {
    "name": "ipython",
    "version": 3
   },
   "file_extension": ".py",
   "mimetype": "text/x-python",
   "name": "python",
   "nbconvert_exporter": "python",
   "pygments_lexer": "ipython3",
   "version": "3.8.8"
  },
  "toc-autonumbering": true,
  "toc-showmarkdowntxt": false
 },
 "nbformat": 4,
 "nbformat_minor": 5
}
